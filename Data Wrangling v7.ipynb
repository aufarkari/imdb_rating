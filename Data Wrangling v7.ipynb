{
 "cells": [
  {
   "cell_type": "markdown",
   "id": "d64add70",
   "metadata": {
    "toc": true
   },
   "source": [
    "<h1>Table of Contents<span class=\"tocSkip\"></span></h1>\n",
    "<div class=\"toc\"><ul class=\"toc-item\"><li><span><a href=\"#Importing-Library\" data-toc-modified-id=\"Importing-Library-1\"><span class=\"toc-item-num\">1&nbsp;&nbsp;</span>Importing Library</a></span></li><li><span><a href=\"#Reading-Data\" data-toc-modified-id=\"Reading-Data-2\"><span class=\"toc-item-num\">2&nbsp;&nbsp;</span>Reading Data</a></span></li></ul></div>"
   ]
  },
  {
   "cell_type": "markdown",
   "id": "987c7c0e",
   "metadata": {},
   "source": [
    "# Importing Library"
   ]
  },
  {
   "cell_type": "code",
   "execution_count": 1,
   "id": "f28100bd",
   "metadata": {},
   "outputs": [],
   "source": [
    "import pandas as pd\n",
    "import numpy as np\n",
    "import seaborn as sns\n",
    "import time\n",
    "from multiprocessing import  Pool\n",
    "import multiprocessing\n",
    "import math"
   ]
  },
  {
   "cell_type": "markdown",
   "id": "916c73bf",
   "metadata": {},
   "source": [
    "# Reading Data"
   ]
  },
  {
   "cell_type": "markdown",
   "id": "b62c7a02",
   "metadata": {},
   "source": [
    "All the data is taken from https://datasets.imdbws.com/. Documentation can be found on https://www.imdb.com/interfaces/ . "
   ]
  },
  {
   "cell_type": "code",
   "execution_count": 2,
   "id": "7c608ad9",
   "metadata": {},
   "outputs": [],
   "source": [
    "path = 's3://audible-insights/karteuku/IMDB/'"
   ]
  },
  {
   "cell_type": "code",
   "execution_count": 3,
   "id": "d6c6898b",
   "metadata": {},
   "outputs": [],
   "source": [
    "def read_data(path, file_name):\n",
    "    '''\n",
    "    This function read a tsv.gz file and replace \"\\\\N\" with np.nan\n",
    "    '''\n",
    "    df = pd.read_csv(path + file_name, sep = '\\t')\n",
    "    df = df.replace(\"\\\\N\",np.nan)\n",
    "    \n",
    "    return df"
   ]
  },
  {
   "cell_type": "code",
   "execution_count": 4,
   "id": "22d2e28e",
   "metadata": {},
   "outputs": [],
   "source": [
    "title_ratings_df = read_data(path,'title.ratings.tsv.gz')\n",
    "\n",
    "title_ratings_df = title_ratings_df.sample(n=100000,random_state=123)"
   ]
  },
  {
   "cell_type": "code",
   "execution_count": 5,
   "id": "71f2598f",
   "metadata": {},
   "outputs": [],
   "source": [
    "#names_df = read_data(path, 'name.basics.tsv.gz')"
   ]
  },
  {
   "cell_type": "code",
   "execution_count": 6,
   "id": "8f8c4b2c",
   "metadata": {},
   "outputs": [
    {
     "name": "stderr",
     "output_type": "stream",
     "text": [
      "/home/ec2-user/anaconda3/envs/python3/lib/python3.6/site-packages/IPython/core/interactiveshell.py:3263: DtypeWarning: Columns (7) have mixed types.Specify dtype option on import or set low_memory=False.\n",
      "  if (await self.run_code(code, result,  async_=asy)):\n"
     ]
    }
   ],
   "source": [
    "title_akas_df = read_data(path, 'title.akas.tsv.gz')\n",
    "\n",
    "mask = title_akas_df['titleId'].isin(title_ratings_df['tconst'])\n",
    "\n",
    "title_akas_df = title_akas_df[mask]"
   ]
  },
  {
   "cell_type": "code",
   "execution_count": 7,
   "id": "489d2be2",
   "metadata": {},
   "outputs": [
    {
     "name": "stderr",
     "output_type": "stream",
     "text": [
      "/home/ec2-user/anaconda3/envs/python3/lib/python3.6/site-packages/IPython/core/interactiveshell.py:3263: DtypeWarning: Columns (4,5) have mixed types.Specify dtype option on import or set low_memory=False.\n",
      "  if (await self.run_code(code, result,  async_=asy)):\n"
     ]
    }
   ],
   "source": [
    "title_basics_df = read_data(path, 'title.basics.tsv.gz')\n",
    "\n",
    "mask = title_basics_df['tconst'].isin(title_ratings_df['tconst'])\n",
    "\n",
    "title_basics_df = title_basics_df[mask]"
   ]
  },
  {
   "cell_type": "code",
   "execution_count": 8,
   "id": "2cbee119",
   "metadata": {},
   "outputs": [],
   "source": [
    "title_crew_df = read_data(path, 'title.crew.tsv.gz')\n",
    "\n",
    "mask = title_crew_df['tconst'].isin(title_ratings_df['tconst'])\n",
    "\n",
    "title_crew_df = title_crew_df[mask]"
   ]
  },
  {
   "cell_type": "code",
   "execution_count": 9,
   "id": "8589e98b",
   "metadata": {},
   "outputs": [],
   "source": [
    "title_episode_df = read_data(path, 'title.episode.tsv.gz')\n",
    "\n",
    "mask = title_episode_df['tconst'].isin(title_ratings_df['tconst'])\n",
    "\n",
    "title_episode_df = title_episode_df[mask]"
   ]
  },
  {
   "cell_type": "code",
   "execution_count": 10,
   "id": "5e01ca8a",
   "metadata": {},
   "outputs": [],
   "source": [
    "title_principals_df = read_data(path, 'title.principals.tsv.gz')\n",
    "\n",
    "mask = title_principals_df['tconst'].isin(title_ratings_df['tconst'])\n",
    "\n",
    "title_principals_df = title_principals_df[mask]"
   ]
  },
  {
   "cell_type": "markdown",
   "id": "9b8c4475",
   "metadata": {},
   "source": [
    "# Data Wrangling"
   ]
  },
  {
   "cell_type": "code",
   "execution_count": 11,
   "id": "81377d49",
   "metadata": {},
   "outputs": [],
   "source": [
    "def create_join_data():\n",
    "    '''\n",
    "    This function performs data wrangling to combine all of the 5 tables \n",
    "    '''\n",
    "    ## Copying the title_ratings_df table and merging with another tables with title granularity\n",
    "    data = title_ratings_df.copy()\n",
    "    data = data.merge(title_crew_df, on ='tconst', how ='left')\n",
    "    data = data.merge(title_basics_df, on ='tconst', how ='left')\n",
    "    data = data.merge(title_episode_df, on ='tconst', how = 'left')\n",
    "    \n",
    "    ## Creating directors_writers columns containing the list of director and writers\n",
    "    data['directors_writers'] = data['directors'] +',' + data['writers']\n",
    "    \n",
    "    ## Calculating the number of maximum episode and seasons a show runs\n",
    "    title_episode_summary = pd.pivot_table(title_episode_df, index = 'parentTconst', \n",
    "                                           values= ['seasonNumber','episodeNumber'], \n",
    "                                           aggfunc = np.nanmax\n",
    "                                          )\n",
    "    title_episode_summary.columns = ['max_' + col for col in title_episode_summary.columns]\n",
    "    title_episode_summary.reset_index(inplace=True)\n",
    "    title_episode_summary.rename(columns = {'parentTconst':'tconst'}, inplace =True)\n",
    "    \n",
    "    data = data.merge(title_episode_summary, on ='tconst', how ='left')\n",
    "    \n",
    "    ## Calculating the number of unique title, ordering, region, and language each title has\n",
    "    title_akas_summary = pd.pivot_table(title_akas_df, index= 'titleId', \n",
    "                                        values = ['title', 'ordering', 'region', 'types', 'language'], \n",
    "                                        aggfunc = lambda x: len(x.unique())\n",
    "                                        )\n",
    "    title_akas_summary.columns = ['unique_' + col for col in title_akas_summary.columns]\n",
    "    title_akas_summary.reset_index(inplace =True)\n",
    "    title_akas_summary.rename(columns = {'titleId':'tconst'}, inplace =True)\n",
    "    title_akas_summary.fillna(1, inplace = True)\n",
    "    \n",
    "    data = data.merge(title_akas_summary, on ='tconst', how ='left')\n",
    "    \n",
    "    ## Calculating the number of listed crews (director, produced, actors, etc.) each show has\n",
    "    title_principals_summary = pd.pivot_table(title_principals_df, index = 'tconst', \n",
    "                                              columns = 'category', values = 'nconst',\n",
    "                                              aggfunc = lambda x: len(x.unique())\n",
    "                                             )\n",
    "    title_principals_summary.columns = ['listed_' + col for col in title_principals_summary.columns]\n",
    "    title_principals_summary.fillna(0, inplace = True)\n",
    "    title_principals_summary['listed_total'] = title_principals_summary.sum(axis = 1)\n",
    "    title_principals_summary.reset_index(inplace = True)\n",
    "    \n",
    "    data = data.merge(title_principals_summary, on ='tconst', how ='left')\n",
    "    \n",
    "    ## Creating one-hot encoding of titleType\n",
    "    data['titleType'].fillna('no_type', inplace=True)\n",
    "    for titleType in data['titleType'].unique():\n",
    "        data['type_' + titleType] = data['titleType']==titleType\n",
    "        data['type_' + titleType] = data['type_' + titleType]*1\n",
    "        \n",
    "    ## Creating one-hot encoding of genres    \n",
    "    data['genres'].fillna('no_genre', inplace=True)\n",
    "    genre_list = []\n",
    "\n",
    "    for row in data['genres'].dropna().values:\n",
    "        genres = row.split(',')\n",
    "        for item in genres:\n",
    "            if item not in genre_list:\n",
    "                genre_list.append(item)\n",
    "                \n",
    "    genre_col_list = []\n",
    "\n",
    "    for genre in genre_list:\n",
    "        data['genre_' + genre] = [genre in data['genres'].loc[row] for row in data.index]\n",
    "        data['genre_' + genre] = data['genre_' + genre]*1\n",
    "        genre_col_list.append('genre_' + genre)\n",
    "        \n",
    "    data['total_genres'] = data[genre_col_list].sum(axis = 1)\n",
    "    \n",
    "    return data"
   ]
  },
  {
   "cell_type": "code",
   "execution_count": 12,
   "id": "d854e3d6",
   "metadata": {},
   "outputs": [
    {
     "data": {
      "text/plain": [
       "(100000, 77)"
      ]
     },
     "execution_count": 12,
     "metadata": {},
     "output_type": "execute_result"
    }
   ],
   "source": [
    "data = create_join_data()\n",
    "\n",
    "data.shape"
   ]
  },
  {
   "cell_type": "markdown",
   "id": "ce0397ee",
   "metadata": {},
   "source": [
    "## Calculate Past Rating"
   ]
  },
  {
   "cell_type": "markdown",
   "id": "10327317",
   "metadata": {},
   "source": [
    "### Calculate Director Past Ratings"
   ]
  },
  {
   "cell_type": "code",
   "execution_count": 13,
   "id": "a66d1f96",
   "metadata": {},
   "outputs": [
    {
     "name": "stdout",
     "output_type": "stream",
     "text": [
      "(832116, 6)\n",
      "(832116, 8)\n"
     ]
    }
   ],
   "source": [
    "print(title_principals_df.shape)\n",
    "\n",
    "title_principals_df = title_principals_df.merge(data[['tconst','averageRating','startYear']], \n",
    "                                                on = 'tconst', how = 'left'\n",
    "                                                )\n",
    "\n",
    "print(title_principals_df.shape)"
   ]
  },
  {
   "cell_type": "code",
   "execution_count": 14,
   "id": "b8665d2f",
   "metadata": {
    "scrolled": true
   },
   "outputs": [],
   "source": [
    "title_principals_df = title_principals_df[title_principals_df['startYear'].notna()]\n",
    "title_principals_df['startYear'] = title_principals_df['startYear'].astype(int)"
   ]
  },
  {
   "cell_type": "code",
   "execution_count": 15,
   "id": "eb7f9f96",
   "metadata": {},
   "outputs": [],
   "source": [
    "mask = ((title_principals_df['category']=='director') &\n",
    "        (title_principals_df['averageRating'].notna()) &\n",
    "        (title_principals_df['startYear'].notna())\n",
    "        )\n",
    "\n",
    "title_principals_ref = title_principals_df[mask]\n",
    "title_principals_ref = title_principals_ref.reset_index().drop(columns = ['index'])"
   ]
  },
  {
   "cell_type": "code",
   "execution_count": 16,
   "id": "e7947f86",
   "metadata": {},
   "outputs": [],
   "source": [
    "def parallelize_dataframe(df, func, n_cores=8):\n",
    "    '''\n",
    "    This functions parallize a DataFrame operation. It takes a DataFrame object (df), \n",
    "    applies a function object (func), and parallize the job across n_cores\n",
    "    '''\n",
    "    df_split = np.array_split(df, n_cores)\n",
    "    pool = Pool(n_cores)\n",
    "    df = pd.concat(pool.map(func, df_split))\n",
    "    pool.close()\n",
    "    pool.join()\n",
    "    return df"
   ]
  },
  {
   "cell_type": "code",
   "execution_count": 17,
   "id": "131c6c24",
   "metadata": {},
   "outputs": [
    {
     "data": {
      "text/html": [
       "<div>\n",
       "<style scoped>\n",
       "    .dataframe tbody tr th:only-of-type {\n",
       "        vertical-align: middle;\n",
       "    }\n",
       "\n",
       "    .dataframe tbody tr th {\n",
       "        vertical-align: top;\n",
       "    }\n",
       "\n",
       "    .dataframe thead th {\n",
       "        text-align: right;\n",
       "    }\n",
       "</style>\n",
       "<table border=\"1\" class=\"dataframe\">\n",
       "  <thead>\n",
       "    <tr style=\"text-align: right;\">\n",
       "      <th></th>\n",
       "      <th>tconst</th>\n",
       "      <th>ordering</th>\n",
       "      <th>nconst</th>\n",
       "      <th>category</th>\n",
       "      <th>job</th>\n",
       "      <th>characters</th>\n",
       "      <th>averageRating</th>\n",
       "      <th>startYear</th>\n",
       "    </tr>\n",
       "  </thead>\n",
       "  <tbody>\n",
       "    <tr>\n",
       "      <th>0</th>\n",
       "      <td>tt0000011</td>\n",
       "      <td>2</td>\n",
       "      <td>nm0804434</td>\n",
       "      <td>director</td>\n",
       "      <td>NaN</td>\n",
       "      <td>NaN</td>\n",
       "      <td>5.2</td>\n",
       "      <td>1895</td>\n",
       "    </tr>\n",
       "    <tr>\n",
       "      <th>1</th>\n",
       "      <td>tt0000019</td>\n",
       "      <td>1</td>\n",
       "      <td>nm0932055</td>\n",
       "      <td>director</td>\n",
       "      <td>NaN</td>\n",
       "      <td>NaN</td>\n",
       "      <td>5.3</td>\n",
       "      <td>1898</td>\n",
       "    </tr>\n",
       "    <tr>\n",
       "      <th>2</th>\n",
       "      <td>tt0000026</td>\n",
       "      <td>5</td>\n",
       "      <td>nm0525910</td>\n",
       "      <td>director</td>\n",
       "      <td>NaN</td>\n",
       "      <td>NaN</td>\n",
       "      <td>5.7</td>\n",
       "      <td>1896</td>\n",
       "    </tr>\n",
       "    <tr>\n",
       "      <th>3</th>\n",
       "      <td>tt0000060</td>\n",
       "      <td>1</td>\n",
       "      <td>nm0005690</td>\n",
       "      <td>director</td>\n",
       "      <td>NaN</td>\n",
       "      <td>NaN</td>\n",
       "      <td>7.7</td>\n",
       "      <td>1896</td>\n",
       "    </tr>\n",
       "    <tr>\n",
       "      <th>4</th>\n",
       "      <td>tt0000072</td>\n",
       "      <td>1</td>\n",
       "      <td>nm0617588</td>\n",
       "      <td>director</td>\n",
       "      <td>NaN</td>\n",
       "      <td>NaN</td>\n",
       "      <td>3.8</td>\n",
       "      <td>1896</td>\n",
       "    </tr>\n",
       "  </tbody>\n",
       "</table>\n",
       "</div>"
      ],
      "text/plain": [
       "      tconst  ordering     nconst  category  job characters  averageRating  \\\n",
       "0  tt0000011         2  nm0804434  director  NaN        NaN            5.2   \n",
       "1  tt0000019         1  nm0932055  director  NaN        NaN            5.3   \n",
       "2  tt0000026         5  nm0525910  director  NaN        NaN            5.7   \n",
       "3  tt0000060         1  nm0005690  director  NaN        NaN            7.7   \n",
       "4  tt0000072         1  nm0617588  director  NaN        NaN            3.8   \n",
       "\n",
       "   startYear  \n",
       "0       1895  \n",
       "1       1898  \n",
       "2       1896  \n",
       "3       1896  \n",
       "4       1896  "
      ]
     },
     "execution_count": 17,
     "metadata": {},
     "output_type": "execute_result"
    }
   ],
   "source": [
    "title_principals_ref.head()"
   ]
  },
  {
   "cell_type": "code",
   "execution_count": 18,
   "id": "9a3a0192",
   "metadata": {},
   "outputs": [],
   "source": [
    "def calculate_past_ratings(data):\n",
    "    '''\n",
    "    This functions calculate the past rating and number of movies that has been produced by a crew member \n",
    "    (e.g. director), in the year before the title is released. Return a list of dictionary of the output\n",
    "    '''\n",
    "    output_list = []\n",
    "    \n",
    "    for row in data.index:\n",
    "        mask = (## Filtering only the relevant crew\n",
    "                (title_principals_ref['nconst'] == data['nconst'].loc[row]) \n",
    "                ## Filtering only the year before the title is released\n",
    "                & (title_principals_ref['startYear'] < data['startYear'].loc[row]) \n",
    "               )\n",
    "    \n",
    "        output = dict()\n",
    "    \n",
    "        output['number_past_movies'] = len(title_principals_ref['tconst'][mask].unique())\n",
    "        output['median_past_rating'] = title_principals_ref['averageRating'][mask].median()\n",
    "        \n",
    "        output_list.append(output)\n",
    "    \n",
    "    return pd.DataFrame(output_list)"
   ]
  },
  {
   "cell_type": "code",
   "execution_count": 19,
   "id": "692c8819",
   "metadata": {},
   "outputs": [],
   "source": [
    "def calculate_past_ratings_by_role(data,role):\n",
    "    '''\n",
    "    Apply the function calculate_past_ratings(data) to the data and specific role only (e.g. director)/\n",
    "    '''\n",
    "    \n",
    "    ## Creating title_principals_role DataFrame object that only include relevant rows\n",
    "    mask = ((title_principals_df['category']==role) &\n",
    "            (title_principals_df['averageRating'].notna()) &\n",
    "            (title_principals_df['startYear'].notna())\n",
    "            )\n",
    "\n",
    "    title_principals_role = title_principals_df[mask]\n",
    "    title_principals_role = title_principals_role.reset_index().drop(columns = ['index'])\n",
    "    \n",
    "    print(\"Start calculate past rating\")\n",
    "    start = time.time()\n",
    "    role_past_rating_df = parallelize_dataframe(title_principals_role, calculate_past_ratings, n_cores=8)\n",
    "    end = time.time()\n",
    "    running_time = end - start\n",
    "    print(f\"Runtime of the program is {end - start}\")\n",
    "    role_past_rating_df.reset_index(inplace=True)\n",
    "    \n",
    "    ## Joining calculated past rating into the title_principals_role DataFrame\n",
    "    title_principals_role = title_principals_role.join(role_past_rating_df[['number_past_movies',\n",
    "                                                                            'median_past_rating']]\n",
    "                                                      )\n",
    "    \n",
    "    ## Calculate the median past rating of a crew category (e.g. director, writer). If there are more than 1 director\n",
    "    ## then the median of median past rating of the directors is reported\n",
    "    past_rating_df = title_principals_role.groupby(['tconst'])[['median_past_rating']].median().reset_index()\n",
    "    data = data.merge(past_rating_df, on ='tconst', how ='left')\n",
    "    \n",
    "    ## Calculate the sum of number of past movies of a crew category (e.g. director, writer). \n",
    "    ## If there are more than 1 director then the sum of number of past movies of the directors is reported\n",
    "    past_movies_df = title_principals_role.groupby(['tconst'])['number_past_movies'].sum().reset_index()\n",
    "    data = data.merge(past_movies_df, on ='tconst', how ='left')\n",
    "    \n",
    "    data = data.rename(columns = {'number_past_movies':role + '_number_past_movies',\n",
    "                                  'median_past_rating':role + '_median_past_rating'})\n",
    "    \n",
    "    return data"
   ]
  },
  {
   "cell_type": "code",
   "execution_count": 34,
   "id": "700a3a38",
   "metadata": {},
   "outputs": [
    {
     "name": "stdout",
     "output_type": "stream",
     "text": [
      "Start calculate past rating\n",
      "Runtime of the program is 1024.9653849601746\n"
     ]
    }
   ],
   "source": [
    "data = calculate_past_ratings_by_role(data,'director')"
   ]
  },
  {
   "cell_type": "markdown",
   "id": "2b2c43e4",
   "metadata": {},
   "source": [
    "### Calculate Show Past Episode Rating"
   ]
  },
  {
   "cell_type": "code",
   "execution_count": 21,
   "id": "bcddacb0",
   "metadata": {},
   "outputs": [
    {
     "name": "stdout",
     "output_type": "stream",
     "text": [
      "(47916, 4)\n",
      "(47916, 6)\n"
     ]
    }
   ],
   "source": [
    "## Creating reference DataFrame for past show \n",
    "print(title_episode_df.shape)\n",
    "\n",
    "title_episode_df = title_episode_df.merge(data[['tconst','averageRating','startYear']], \n",
    "                                          on = 'tconst', how = 'left'\n",
    "                                        )\n",
    "\n",
    "print(title_episode_df.shape)"
   ]
  },
  {
   "cell_type": "code",
   "execution_count": 22,
   "id": "6dfd8a69",
   "metadata": {},
   "outputs": [],
   "source": [
    "mask = ((title_episode_df['parentTconst'].notna()) &\n",
    "        (title_episode_df['averageRating'].notna()) &\n",
    "        (title_episode_df['startYear'].notna())\n",
    "        )\n",
    "\n",
    "title_episode_df = title_episode_df[mask]\n",
    "title_episode_df['startYear'] = title_episode_df['startYear'].astype(int)\n",
    "title_episode_df_ref = title_episode_df.copy()\n",
    "title_episode_df_ref = title_episode_df_ref.reset_index().drop(columns = ['index'])"
   ]
  },
  {
   "cell_type": "code",
   "execution_count": 23,
   "id": "49f99413",
   "metadata": {},
   "outputs": [
    {
     "data": {
      "text/plain": [
       "(47909, 6)"
      ]
     },
     "execution_count": 23,
     "metadata": {},
     "output_type": "execute_result"
    }
   ],
   "source": [
    "title_episode_df.shape"
   ]
  },
  {
   "cell_type": "code",
   "execution_count": 24,
   "id": "c3ee09fc",
   "metadata": {},
   "outputs": [],
   "source": [
    "def calculate_past_show_ratings(data):\n",
    "    '''\n",
    "    This function calculate the average past ratings for each episode in the tv show. \n",
    "    it does so by filtering the episode from the same show (same parentTconst) that was released\n",
    "    before the current episode was released (startYear)\n",
    "    '''\n",
    "    output_list = []\n",
    "    \n",
    "    for row in data.index:\n",
    "        \n",
    "        mask = (## Filtering only the relevant show\n",
    "                (title_episode_df_ref['parentTconst'] == data['parentTconst'].loc[row]) \n",
    "                ## Filtering only the year before the title is released\n",
    "                & (title_episode_df_ref['startYear'] < data['startYear'].loc[row]) \n",
    "               )\n",
    "    \n",
    "        output = dict()\n",
    "        output['parentTconst'] = data['parentTconst'].loc[row]\n",
    "        output['tconst'] = data['tconst'].loc[row]\n",
    "        output['number_past_episode'] = len(title_episode_df_ref['tconst'][mask].unique())\n",
    "        output['average_show_past_rating'] = title_episode_df_ref['averageRating'][mask].mean()\n",
    "        \n",
    "        output_list.append(output)\n",
    "        \n",
    "    output_df = pd.DataFrame(output_list)    \n",
    "    \n",
    "    return output_df"
   ]
  },
  {
   "cell_type": "code",
   "execution_count": 26,
   "id": "c632cea5",
   "metadata": {},
   "outputs": [],
   "source": [
    "def merge_past_show_ratings(data):\n",
    "    '''\n",
    "    This function calculate the ratings of past episode using calculate_past_show_ratings function\n",
    "    and merge to the output into the original DataFrame\n",
    "    '''\n",
    "    print(\"Start calculate past show rating\")\n",
    "    start = time.time()\n",
    "    past_show_ratings_df = parallelize_dataframe(title_episode_df, calculate_past_show_ratings, n_cores=8)\n",
    "    end = time.time()\n",
    "    running_time = end - start\n",
    "    print(f\"Runtime of the program is {end - start}\")\n",
    "    \n",
    "    data = data.merge(past_show_ratings_df, on = ['tconst','parentTconst'], how ='left')\n",
    "    \n",
    "    return data"
   ]
  },
  {
   "cell_type": "code",
   "execution_count": 27,
   "id": "05141874",
   "metadata": {},
   "outputs": [
    {
     "name": "stdout",
     "output_type": "stream",
     "text": [
      "Start calculate past show rating\n",
      "Runtime of the program is 349.6205430030823\n"
     ]
    }
   ],
   "source": [
    "data = merge_past_show_ratings(data)"
   ]
  },
  {
   "cell_type": "code",
   "execution_count": 35,
   "id": "8a262978",
   "metadata": {},
   "outputs": [],
   "source": [
    "data.to_csv('s3://audible-insights/karteuku/IMDB/data_3.csv', index = False)"
   ]
  }
 ],
 "metadata": {
  "kernelspec": {
   "display_name": "conda_python3",
   "language": "python",
   "name": "conda_python3"
  },
  "language_info": {
   "codemirror_mode": {
    "name": "ipython",
    "version": 3
   },
   "file_extension": ".py",
   "mimetype": "text/x-python",
   "name": "python",
   "nbconvert_exporter": "python",
   "pygments_lexer": "ipython3",
   "version": "3.6.13"
  },
  "toc": {
   "base_numbering": 1,
   "nav_menu": {},
   "number_sections": true,
   "sideBar": true,
   "skip_h1_title": false,
   "title_cell": "Table of Contents",
   "title_sidebar": "Contents",
   "toc_cell": true,
   "toc_position": {},
   "toc_section_display": true,
   "toc_window_display": true
  }
 },
 "nbformat": 4,
 "nbformat_minor": 5
}
